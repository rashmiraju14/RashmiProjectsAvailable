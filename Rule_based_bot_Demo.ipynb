{
  "nbformat": 4,
  "nbformat_minor": 0,
  "metadata": {
    "colab": {
      "provenance": [],
      "authorship_tag": "ABX9TyOmr4B6NaZGJQ3h6Qb/bvdU",
      "include_colab_link": true
    },
    "kernelspec": {
      "name": "python3",
      "display_name": "Python 3"
    },
    "language_info": {
      "name": "python"
    }
  },
  "cells": [
    {
      "cell_type": "markdown",
      "metadata": {
        "id": "view-in-github",
        "colab_type": "text"
      },
      "source": [
        "<a href=\"https://colab.research.google.com/github/rashmiraju14/RashmiProjectsAvailable/blob/main/Rule_based_bot_Demo.ipynb\" target=\"_parent\"><img src=\"https://colab.research.google.com/assets/colab-badge.svg\" alt=\"Open In Colab\"/></a>"
      ]
    },
    {
      "cell_type": "code",
      "source": [
        "import random\n",
        "import re\n",
        "\n",
        "class Rulebot():\n",
        "    ###potential Negative responses\n",
        "    negative_responses=(\"no\",\"nope\",\"nah\",\"naw\",\"not a chance\",\"sorry\")\n",
        "    ### Exit conversation keywords\n",
        "    exit_commands=(\"quit\",\"pause\",\"exit\",\"goodbye\",\"bye\",\"later\")\n",
        "    ###random starter querstion\n",
        "    random_questions=(\n",
        "        \"hey,how r u doing?\",\n",
        "        \"what r u doing right now?\",\n",
        "        \"when r u free, to have a food conversation?\",\n",
        "        \"its been ages , please connect soon?\"\n",
        "    )\n",
        "\n",
        "    def __init__(self):\n",
        "        self.alienbabble={'describe_planet_intent':r'.*\\s* your planet.*',\n",
        "                        'answer_why_intent':r'why\\sare.*',\n",
        "                        'about_intellipat':r'.*\\s* intellipath'\n",
        "                        }\n",
        "\n",
        "    def greet(self):\n",
        "        self.name = input('What is your name?\\n')\n",
        "        will_help=input(\n",
        "        f'Hi {self.name},I am Rule-Bot.will you help me learn about your planet?\\n')\n",
        "        if will_help in self.negative_responses:\n",
        "            print('ok, have a nice day e earth day!')\n",
        "            return\n",
        "        self.chat()\n",
        "\n",
        "\n",
        "    def make_exit(self, reply):\n",
        "        for command in self.exit_commands:\n",
        "            if reply == command:\n",
        "                print('okay, have a nice earth day!')\n",
        "                return True\n",
        "        return False\n",
        "\n",
        "    def chat(self):\n",
        "        reply = input(random.choice(self.random_questions)).lower()\n",
        "        while not self.make_exit(reply):\n",
        "            reply=input(self.match_reply(reply))\n",
        "\n",
        "\n",
        "    def match_reply(self,reply):\n",
        "        for key, value in self.alienbabble.items():\n",
        "            intent=key\n",
        "            regex_pattern=value\n",
        "            found_match=re.match(regex_pattern,reply)\n",
        "            if found_match and intent == 'describe_planet_intent':\n",
        "                return self.describe_planet_intent()\n",
        "            elif found_match and intent == 'answer_why_intent':\n",
        "                return self.answer_why_intent()\n",
        "            elif found_match and intent == 'about_intellipat':\n",
        "                return self.about_intellipat()\n",
        "        if not found_match:\n",
        "            return self.no_match_intent()\n",
        "\n",
        "    def describe_planet_intent(self):\n",
        "        responses=('My planet is a diverse organisms and species.\\n',\n",
        "                            'Iam from planet earth.\\n')\n",
        "        return random.choice(responses)\n",
        "\n",
        "    def answer_why_intent(self):\n",
        "        responses=('I come in a peace\\n', 'iam here to collect data on your planet  and its inhabitants\\n',\n",
        "                        'I heard the coffee is good\\n')\n",
        "        return random.choice(responses)\n",
        "\n",
        "    def about_intellipat(self):\n",
        "        responses=('intellipat is world largest professional educational platform for helping student learning efficient\\n','this is useful in many ways\\n',\n",
        "                   'intellipat is where you can griow your career level up')\n",
        "        return random.choice(responses)\n",
        "\n",
        "    def no_match_intent(self):\n",
        "        responses=('Please tell me more.\\n', 'tell me more!\\n','why do you say that ?\\n','I see can you elaborate?\\n')\n",
        "        return random.choice(responses)\n",
        "\n",
        "AlienBot = Rulebot()\n",
        "AlienBot.greet()\n"
      ],
      "metadata": {
        "colab": {
          "base_uri": "https://localhost:8080/"
        },
        "id": "Qxbiyl-hb-V6",
        "outputId": "c47b16d3-5817-4d76-e162-f0dba9d80987"
      },
      "execution_count": null,
      "outputs": [
        {
          "name": "stdout",
          "output_type": "stream",
          "text": [
            "What is your name?\n",
            "Rule-bot\n",
            "Hi Rule-bot,I am Rule-Bot.will you help me learn about your planet?\n",
            "yes\n",
            "its been ages , please connect soon?ofcourse sure \n",
            "why do you say that ?\n",
            "yes\n"
          ]
        }
      ]
    },
    {
      "cell_type": "code",
      "execution_count": 1,
      "metadata": {
        "id": "i9zKvQRSbeVl"
      },
      "outputs": [],
      "source": [
        "import re\n",
        "import random"
      ]
    }
  ]
}